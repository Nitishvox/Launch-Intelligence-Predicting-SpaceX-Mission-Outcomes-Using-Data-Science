{
 "cells": [
  {
   "cell_type": "markdown",
   "id": "88a76bdc-3aec-40db-abc6-98ff2d41a4ed",
   "metadata": {},
   "source": [
    "# Project Title\n",
    "**Launch Intelligence: Predicting SpaceX Mission Outcomes Using Data Science**"
   ]
  },
  {
   "cell_type": "markdown",
   "id": "ea9c0419-6045-4295-b65e-b23121ce174a",
   "metadata": {},
   "source": [
    "# SpaceX Launch Data Analysis Capstone\n",
    "\n",
    "## Project Overview\n",
    "In this project, you are working as a data scientist for a private space launch company. The goal is to explore SpaceX launch data, derive insights using data analysis and visualization techniques, and develop predictive models. Data is sourced from the SpaceX REST API.\n",
    "\n",
    "---\n",
    "\n",
    "## Step 1: Data Collection\n",
    "\n",
    "We begin by loading the launch data from the SpaceX public REST API.\n",
    "\n",
    "```python\n",
    "import requests\n",
    "import pandas as pd\n",
    "\n",
    "response = requests.get(\"https://api.spacexdata.com/v4/launches\")\n",
    "launch_data = response.json()\n",
    "df = pd.json_normalize(launch_data)\n"
   ]
  },
  {
   "cell_type": "code",
   "execution_count": 2,
   "id": "cfd4a835-447f-4a8b-8bf0-213efa519cb2",
   "metadata": {},
   "outputs": [
    {
     "data": {
      "text/html": [
       "<div>\n",
       "<style scoped>\n",
       "    .dataframe tbody tr th:only-of-type {\n",
       "        vertical-align: middle;\n",
       "    }\n",
       "\n",
       "    .dataframe tbody tr th {\n",
       "        vertical-align: top;\n",
       "    }\n",
       "\n",
       "    .dataframe thead th {\n",
       "        text-align: right;\n",
       "    }\n",
       "</style>\n",
       "<table border=\"1\" class=\"dataframe\">\n",
       "  <thead>\n",
       "    <tr style=\"text-align: right;\">\n",
       "      <th></th>\n",
       "      <th>static_fire_date_utc</th>\n",
       "      <th>static_fire_date_unix</th>\n",
       "      <th>net</th>\n",
       "      <th>window</th>\n",
       "      <th>rocket</th>\n",
       "      <th>success</th>\n",
       "      <th>failures</th>\n",
       "      <th>details</th>\n",
       "      <th>crew</th>\n",
       "      <th>ships</th>\n",
       "      <th>...</th>\n",
       "      <th>links.reddit.media</th>\n",
       "      <th>links.reddit.recovery</th>\n",
       "      <th>links.flickr.small</th>\n",
       "      <th>links.flickr.original</th>\n",
       "      <th>links.presskit</th>\n",
       "      <th>links.webcast</th>\n",
       "      <th>links.youtube_id</th>\n",
       "      <th>links.article</th>\n",
       "      <th>links.wikipedia</th>\n",
       "      <th>fairings</th>\n",
       "    </tr>\n",
       "  </thead>\n",
       "  <tbody>\n",
       "    <tr>\n",
       "      <th>0</th>\n",
       "      <td>2006-03-17T00:00:00.000Z</td>\n",
       "      <td>1.142554e+09</td>\n",
       "      <td>False</td>\n",
       "      <td>0.0</td>\n",
       "      <td>5e9d0d95eda69955f709d1eb</td>\n",
       "      <td>False</td>\n",
       "      <td>[{'time': 33, 'altitude': None, 'reason': 'mer...</td>\n",
       "      <td>Engine failure at 33 seconds and loss of vehicle</td>\n",
       "      <td>[]</td>\n",
       "      <td>[]</td>\n",
       "      <td>...</td>\n",
       "      <td>None</td>\n",
       "      <td>None</td>\n",
       "      <td>[]</td>\n",
       "      <td>[]</td>\n",
       "      <td>None</td>\n",
       "      <td>https://www.youtube.com/watch?v=0a_00nJ_Y88</td>\n",
       "      <td>0a_00nJ_Y88</td>\n",
       "      <td>https://www.space.com/2196-spacex-inaugural-fa...</td>\n",
       "      <td>https://en.wikipedia.org/wiki/DemoSat</td>\n",
       "      <td>NaN</td>\n",
       "    </tr>\n",
       "    <tr>\n",
       "      <th>1</th>\n",
       "      <td>None</td>\n",
       "      <td>NaN</td>\n",
       "      <td>False</td>\n",
       "      <td>0.0</td>\n",
       "      <td>5e9d0d95eda69955f709d1eb</td>\n",
       "      <td>False</td>\n",
       "      <td>[{'time': 301, 'altitude': 289, 'reason': 'har...</td>\n",
       "      <td>Successful first stage burn and transition to ...</td>\n",
       "      <td>[]</td>\n",
       "      <td>[]</td>\n",
       "      <td>...</td>\n",
       "      <td>None</td>\n",
       "      <td>None</td>\n",
       "      <td>[]</td>\n",
       "      <td>[]</td>\n",
       "      <td>None</td>\n",
       "      <td>https://www.youtube.com/watch?v=Lk4zQ2wP-Nc</td>\n",
       "      <td>Lk4zQ2wP-Nc</td>\n",
       "      <td>https://www.space.com/3590-spacex-falcon-1-roc...</td>\n",
       "      <td>https://en.wikipedia.org/wiki/DemoSat</td>\n",
       "      <td>NaN</td>\n",
       "    </tr>\n",
       "    <tr>\n",
       "      <th>2</th>\n",
       "      <td>None</td>\n",
       "      <td>NaN</td>\n",
       "      <td>False</td>\n",
       "      <td>0.0</td>\n",
       "      <td>5e9d0d95eda69955f709d1eb</td>\n",
       "      <td>False</td>\n",
       "      <td>[{'time': 140, 'altitude': 35, 'reason': 'resi...</td>\n",
       "      <td>Residual stage 1 thrust led to collision betwe...</td>\n",
       "      <td>[]</td>\n",
       "      <td>[]</td>\n",
       "      <td>...</td>\n",
       "      <td>None</td>\n",
       "      <td>None</td>\n",
       "      <td>[]</td>\n",
       "      <td>[]</td>\n",
       "      <td>None</td>\n",
       "      <td>https://www.youtube.com/watch?v=v0w9p3U8860</td>\n",
       "      <td>v0w9p3U8860</td>\n",
       "      <td>http://www.spacex.com/news/2013/02/11/falcon-1...</td>\n",
       "      <td>https://en.wikipedia.org/wiki/Trailblazer_(sat...</td>\n",
       "      <td>NaN</td>\n",
       "    </tr>\n",
       "    <tr>\n",
       "      <th>3</th>\n",
       "      <td>2008-09-20T00:00:00.000Z</td>\n",
       "      <td>1.221869e+09</td>\n",
       "      <td>False</td>\n",
       "      <td>0.0</td>\n",
       "      <td>5e9d0d95eda69955f709d1eb</td>\n",
       "      <td>True</td>\n",
       "      <td>[]</td>\n",
       "      <td>Ratsat was carried to orbit on the first succe...</td>\n",
       "      <td>[]</td>\n",
       "      <td>[]</td>\n",
       "      <td>...</td>\n",
       "      <td>None</td>\n",
       "      <td>None</td>\n",
       "      <td>[]</td>\n",
       "      <td>[]</td>\n",
       "      <td>None</td>\n",
       "      <td>https://www.youtube.com/watch?v=dLQ2tZEH6G0</td>\n",
       "      <td>dLQ2tZEH6G0</td>\n",
       "      <td>https://en.wikipedia.org/wiki/Ratsat</td>\n",
       "      <td>https://en.wikipedia.org/wiki/Ratsat</td>\n",
       "      <td>NaN</td>\n",
       "    </tr>\n",
       "    <tr>\n",
       "      <th>4</th>\n",
       "      <td>None</td>\n",
       "      <td>NaN</td>\n",
       "      <td>False</td>\n",
       "      <td>0.0</td>\n",
       "      <td>5e9d0d95eda69955f709d1eb</td>\n",
       "      <td>True</td>\n",
       "      <td>[]</td>\n",
       "      <td>None</td>\n",
       "      <td>[]</td>\n",
       "      <td>[]</td>\n",
       "      <td>...</td>\n",
       "      <td>None</td>\n",
       "      <td>None</td>\n",
       "      <td>[]</td>\n",
       "      <td>[]</td>\n",
       "      <td>http://www.spacex.com/press/2012/12/19/spacexs...</td>\n",
       "      <td>https://www.youtube.com/watch?v=yTaIDooc8Og</td>\n",
       "      <td>yTaIDooc8Og</td>\n",
       "      <td>http://www.spacex.com/news/2013/02/12/falcon-1...</td>\n",
       "      <td>https://en.wikipedia.org/wiki/RazakSAT</td>\n",
       "      <td>NaN</td>\n",
       "    </tr>\n",
       "  </tbody>\n",
       "</table>\n",
       "<p>5 rows × 43 columns</p>\n",
       "</div>"
      ],
      "text/plain": [
       "       static_fire_date_utc  static_fire_date_unix    net  window  \\\n",
       "0  2006-03-17T00:00:00.000Z           1.142554e+09  False     0.0   \n",
       "1                      None                    NaN  False     0.0   \n",
       "2                      None                    NaN  False     0.0   \n",
       "3  2008-09-20T00:00:00.000Z           1.221869e+09  False     0.0   \n",
       "4                      None                    NaN  False     0.0   \n",
       "\n",
       "                     rocket success  \\\n",
       "0  5e9d0d95eda69955f709d1eb   False   \n",
       "1  5e9d0d95eda69955f709d1eb   False   \n",
       "2  5e9d0d95eda69955f709d1eb   False   \n",
       "3  5e9d0d95eda69955f709d1eb    True   \n",
       "4  5e9d0d95eda69955f709d1eb    True   \n",
       "\n",
       "                                            failures  \\\n",
       "0  [{'time': 33, 'altitude': None, 'reason': 'mer...   \n",
       "1  [{'time': 301, 'altitude': 289, 'reason': 'har...   \n",
       "2  [{'time': 140, 'altitude': 35, 'reason': 'resi...   \n",
       "3                                                 []   \n",
       "4                                                 []   \n",
       "\n",
       "                                             details crew ships  ...  \\\n",
       "0   Engine failure at 33 seconds and loss of vehicle   []    []  ...   \n",
       "1  Successful first stage burn and transition to ...   []    []  ...   \n",
       "2  Residual stage 1 thrust led to collision betwe...   []    []  ...   \n",
       "3  Ratsat was carried to orbit on the first succe...   []    []  ...   \n",
       "4                                               None   []    []  ...   \n",
       "\n",
       "  links.reddit.media links.reddit.recovery links.flickr.small  \\\n",
       "0               None                  None                 []   \n",
       "1               None                  None                 []   \n",
       "2               None                  None                 []   \n",
       "3               None                  None                 []   \n",
       "4               None                  None                 []   \n",
       "\n",
       "   links.flickr.original                                     links.presskit  \\\n",
       "0                     []                                               None   \n",
       "1                     []                                               None   \n",
       "2                     []                                               None   \n",
       "3                     []                                               None   \n",
       "4                     []  http://www.spacex.com/press/2012/12/19/spacexs...   \n",
       "\n",
       "                                 links.webcast  links.youtube_id  \\\n",
       "0  https://www.youtube.com/watch?v=0a_00nJ_Y88       0a_00nJ_Y88   \n",
       "1  https://www.youtube.com/watch?v=Lk4zQ2wP-Nc       Lk4zQ2wP-Nc   \n",
       "2  https://www.youtube.com/watch?v=v0w9p3U8860       v0w9p3U8860   \n",
       "3  https://www.youtube.com/watch?v=dLQ2tZEH6G0       dLQ2tZEH6G0   \n",
       "4  https://www.youtube.com/watch?v=yTaIDooc8Og       yTaIDooc8Og   \n",
       "\n",
       "                                       links.article  \\\n",
       "0  https://www.space.com/2196-spacex-inaugural-fa...   \n",
       "1  https://www.space.com/3590-spacex-falcon-1-roc...   \n",
       "2  http://www.spacex.com/news/2013/02/11/falcon-1...   \n",
       "3               https://en.wikipedia.org/wiki/Ratsat   \n",
       "4  http://www.spacex.com/news/2013/02/12/falcon-1...   \n",
       "\n",
       "                                     links.wikipedia  fairings  \n",
       "0              https://en.wikipedia.org/wiki/DemoSat       NaN  \n",
       "1              https://en.wikipedia.org/wiki/DemoSat       NaN  \n",
       "2  https://en.wikipedia.org/wiki/Trailblazer_(sat...       NaN  \n",
       "3               https://en.wikipedia.org/wiki/Ratsat       NaN  \n",
       "4             https://en.wikipedia.org/wiki/RazakSAT       NaN  \n",
       "\n",
       "[5 rows x 43 columns]"
      ]
     },
     "execution_count": 2,
     "metadata": {},
     "output_type": "execute_result"
    }
   ],
   "source": [
    "#gathering the Rest api Data\n",
    "import requests\n",
    "import pandas as pd\n",
    "\n",
    "response = requests.get(\"https://api.spacexdata.com/v4/launches\")\n",
    "launch_data = response.json()\n",
    "df = pd.json_normalize(launch_data)\n",
    "df.head()"
   ]
  },
  {
   "cell_type": "code",
   "execution_count": 3,
   "id": "4241f982-7ea6-4b9d-a12c-a6221e98b587",
   "metadata": {},
   "outputs": [
    {
     "data": {
      "text/plain": [
       "Index(['static_fire_date_utc', 'static_fire_date_unix', 'net', 'window',\n",
       "       'rocket', 'success', 'failures', 'details', 'crew', 'ships', 'capsules',\n",
       "       'payloads', 'launchpad', 'flight_number', 'name', 'date_utc',\n",
       "       'date_unix', 'date_local', 'date_precision', 'upcoming', 'cores',\n",
       "       'auto_update', 'tbd', 'launch_library_id', 'id', 'fairings.reused',\n",
       "       'fairings.recovery_attempt', 'fairings.recovered', 'fairings.ships',\n",
       "       'links.patch.small', 'links.patch.large', 'links.reddit.campaign',\n",
       "       'links.reddit.launch', 'links.reddit.media', 'links.reddit.recovery',\n",
       "       'links.flickr.small', 'links.flickr.original', 'links.presskit',\n",
       "       'links.webcast', 'links.youtube_id', 'links.article', 'links.wikipedia',\n",
       "       'fairings'],\n",
       "      dtype='object')"
      ]
     },
     "execution_count": 3,
     "metadata": {},
     "output_type": "execute_result"
    }
   ],
   "source": [
    "df.columns "
   ]
  },
  {
   "cell_type": "code",
   "execution_count": 5,
   "id": "81dce88f-5b02-4deb-97bb-ef73256fc5d4",
   "metadata": {},
   "outputs": [
    {
     "name": "stdout",
     "output_type": "stream",
     "text": [
      "<class 'pandas.core.frame.DataFrame'>\n",
      "RangeIndex: 205 entries, 0 to 204\n",
      "Data columns (total 43 columns):\n",
      " #   Column                     Non-Null Count  Dtype  \n",
      "---  ------                     --------------  -----  \n",
      " 0   static_fire_date_utc       121 non-null    object \n",
      " 1   static_fire_date_unix      121 non-null    float64\n",
      " 2   net                        205 non-null    bool   \n",
      " 3   window                     117 non-null    float64\n",
      " 4   rocket                     205 non-null    object \n",
      " 5   success                    186 non-null    object \n",
      " 6   failures                   205 non-null    object \n",
      " 7   details                    134 non-null    object \n",
      " 8   crew                       205 non-null    object \n",
      " 9   ships                      205 non-null    object \n",
      " 10  capsules                   205 non-null    object \n",
      " 11  payloads                   205 non-null    object \n",
      " 12  launchpad                  205 non-null    object \n",
      " 13  flight_number              205 non-null    int64  \n",
      " 14  name                       205 non-null    object \n",
      " 15  date_utc                   205 non-null    object \n",
      " 16  date_unix                  205 non-null    int64  \n",
      " 17  date_local                 205 non-null    object \n",
      " 18  date_precision             205 non-null    object \n",
      " 19  upcoming                   205 non-null    bool   \n",
      " 20  cores                      205 non-null    object \n",
      " 21  auto_update                205 non-null    bool   \n",
      " 22  tbd                        205 non-null    bool   \n",
      " 23  launch_library_id          72 non-null     object \n",
      " 24  id                         205 non-null    object \n",
      " 25  fairings.reused            93 non-null     object \n",
      " 26  fairings.recovery_attempt  107 non-null    object \n",
      " 27  fairings.recovered         85 non-null     object \n",
      " 28  fairings.ships             169 non-null    object \n",
      " 29  links.patch.small          189 non-null    object \n",
      " 30  links.patch.large          189 non-null    object \n",
      " 31  links.reddit.campaign      150 non-null    object \n",
      " 32  links.reddit.launch        164 non-null    object \n",
      " 33  links.reddit.media         88 non-null     object \n",
      " 34  links.reddit.recovery      95 non-null     object \n",
      " 35  links.flickr.small         205 non-null    object \n",
      " 36  links.flickr.original      205 non-null    object \n",
      " 37  links.presskit             91 non-null     object \n",
      " 38  links.webcast              188 non-null    object \n",
      " 39  links.youtube_id           188 non-null    object \n",
      " 40  links.article              142 non-null    object \n",
      " 41  links.wikipedia            155 non-null    object \n",
      " 42  fairings                   0 non-null      float64\n",
      "dtypes: bool(4), float64(3), int64(2), object(34)\n",
      "memory usage: 63.4+ KB\n"
     ]
    }
   ],
   "source": [
    "df.info()"
   ]
  },
  {
   "cell_type": "code",
   "execution_count": 6,
   "id": "e8501440-4064-423d-8b8a-86c8b7f9e15b",
   "metadata": {},
   "outputs": [
    {
     "data": {
      "text/html": [
       "<div>\n",
       "<style scoped>\n",
       "    .dataframe tbody tr th:only-of-type {\n",
       "        vertical-align: middle;\n",
       "    }\n",
       "\n",
       "    .dataframe tbody tr th {\n",
       "        vertical-align: top;\n",
       "    }\n",
       "\n",
       "    .dataframe thead th {\n",
       "        text-align: right;\n",
       "    }\n",
       "</style>\n",
       "<table border=\"1\" class=\"dataframe\">\n",
       "  <thead>\n",
       "    <tr style=\"text-align: right;\">\n",
       "      <th></th>\n",
       "      <th>static_fire_date_unix</th>\n",
       "      <th>window</th>\n",
       "      <th>flight_number</th>\n",
       "      <th>date_unix</th>\n",
       "      <th>fairings</th>\n",
       "    </tr>\n",
       "  </thead>\n",
       "  <tbody>\n",
       "    <tr>\n",
       "      <th>count</th>\n",
       "      <td>1.210000e+02</td>\n",
       "      <td>117.000000</td>\n",
       "      <td>205.000000</td>\n",
       "      <td>2.050000e+02</td>\n",
       "      <td>0.0</td>\n",
       "    </tr>\n",
       "    <tr>\n",
       "      <th>mean</th>\n",
       "      <td>1.520206e+09</td>\n",
       "      <td>2568.974359</td>\n",
       "      <td>102.814634</td>\n",
       "      <td>1.566077e+09</td>\n",
       "      <td>NaN</td>\n",
       "    </tr>\n",
       "    <tr>\n",
       "      <th>std</th>\n",
       "      <td>9.080036e+07</td>\n",
       "      <td>4389.948430</td>\n",
       "      <td>59.029112</td>\n",
       "      <td>1.037329e+08</td>\n",
       "      <td>NaN</td>\n",
       "    </tr>\n",
       "    <tr>\n",
       "      <th>min</th>\n",
       "      <td>1.142554e+09</td>\n",
       "      <td>0.000000</td>\n",
       "      <td>1.000000</td>\n",
       "      <td>1.143239e+09</td>\n",
       "      <td>NaN</td>\n",
       "    </tr>\n",
       "    <tr>\n",
       "      <th>25%</th>\n",
       "      <td>1.475417e+09</td>\n",
       "      <td>0.000000</td>\n",
       "      <td>52.000000</td>\n",
       "      <td>1.513992e+09</td>\n",
       "      <td>NaN</td>\n",
       "    </tr>\n",
       "    <tr>\n",
       "      <th>50%</th>\n",
       "      <td>1.529789e+09</td>\n",
       "      <td>0.000000</td>\n",
       "      <td>103.000000</td>\n",
       "      <td>1.601984e+09</td>\n",
       "      <td>NaN</td>\n",
       "    </tr>\n",
       "    <tr>\n",
       "      <th>75%</th>\n",
       "      <td>1.589368e+09</td>\n",
       "      <td>5280.000000</td>\n",
       "      <td>154.000000</td>\n",
       "      <td>1.647660e+09</td>\n",
       "      <td>NaN</td>\n",
       "    </tr>\n",
       "    <tr>\n",
       "      <th>max</th>\n",
       "      <td>1.650464e+09</td>\n",
       "      <td>18300.000000</td>\n",
       "      <td>203.000000</td>\n",
       "      <td>1.670198e+09</td>\n",
       "      <td>NaN</td>\n",
       "    </tr>\n",
       "  </tbody>\n",
       "</table>\n",
       "</div>"
      ],
      "text/plain": [
       "       static_fire_date_unix        window  flight_number     date_unix  \\\n",
       "count           1.210000e+02    117.000000     205.000000  2.050000e+02   \n",
       "mean            1.520206e+09   2568.974359     102.814634  1.566077e+09   \n",
       "std             9.080036e+07   4389.948430      59.029112  1.037329e+08   \n",
       "min             1.142554e+09      0.000000       1.000000  1.143239e+09   \n",
       "25%             1.475417e+09      0.000000      52.000000  1.513992e+09   \n",
       "50%             1.529789e+09      0.000000     103.000000  1.601984e+09   \n",
       "75%             1.589368e+09   5280.000000     154.000000  1.647660e+09   \n",
       "max             1.650464e+09  18300.000000     203.000000  1.670198e+09   \n",
       "\n",
       "       fairings  \n",
       "count       0.0  \n",
       "mean        NaN  \n",
       "std         NaN  \n",
       "min         NaN  \n",
       "25%         NaN  \n",
       "50%         NaN  \n",
       "75%         NaN  \n",
       "max         NaN  "
      ]
     },
     "execution_count": 6,
     "metadata": {},
     "output_type": "execute_result"
    }
   ],
   "source": [
    "df.describe()"
   ]
  },
  {
   "cell_type": "code",
   "execution_count": 7,
   "id": "42cd222e-d45a-413d-b281-1173cbfaa4fa",
   "metadata": {},
   "outputs": [],
   "source": [
    "#imports \n",
    "import numpy as np \n",
    "import pandas as pd \n",
    "import seaborn as sns \n",
    "import matplotlib.pyplot as plt \n",
    "%matplotlib inline"
   ]
  },
  {
   "cell_type": "code",
   "execution_count": 9,
   "id": "3ed9fc80-d3bd-4628-bf26-aa8a3879c95f",
   "metadata": {},
   "outputs": [
    {
     "data": {
      "text/plain": [
       "(205, 43)"
      ]
     },
     "execution_count": 9,
     "metadata": {},
     "output_type": "execute_result"
    }
   ],
   "source": [
    "df.shape"
   ]
  },
  {
   "cell_type": "code",
   "execution_count": 11,
   "id": "bfeb5a96-370e-4dcb-83cc-0f6fe1750527",
   "metadata": {},
   "outputs": [
    {
     "data": {
      "text/plain": [
       "static_fire_date_utc          object\n",
       "static_fire_date_unix        float64\n",
       "net                             bool\n",
       "window                       float64\n",
       "rocket                        object\n",
       "success                       object\n",
       "failures                      object\n",
       "details                       object\n",
       "crew                          object\n",
       "ships                         object\n",
       "capsules                      object\n",
       "payloads                      object\n",
       "launchpad                     object\n",
       "flight_number                  int64\n",
       "name                          object\n",
       "date_utc                      object\n",
       "date_unix                      int64\n",
       "date_local                    object\n",
       "date_precision                object\n",
       "upcoming                        bool\n",
       "cores                         object\n",
       "auto_update                     bool\n",
       "tbd                             bool\n",
       "launch_library_id             object\n",
       "id                            object\n",
       "fairings.reused               object\n",
       "fairings.recovery_attempt     object\n",
       "fairings.recovered            object\n",
       "fairings.ships                object\n",
       "links.patch.small             object\n",
       "links.patch.large             object\n",
       "links.reddit.campaign         object\n",
       "links.reddit.launch           object\n",
       "links.reddit.media            object\n",
       "links.reddit.recovery         object\n",
       "links.flickr.small            object\n",
       "links.flickr.original         object\n",
       "links.presskit                object\n",
       "links.webcast                 object\n",
       "links.youtube_id              object\n",
       "links.article                 object\n",
       "links.wikipedia               object\n",
       "fairings                     float64\n",
       "dtype: object"
      ]
     },
     "execution_count": 11,
     "metadata": {},
     "output_type": "execute_result"
    }
   ],
   "source": [
    "df.dtypes"
   ]
  },
  {
   "cell_type": "code",
   "execution_count": 17,
   "id": "27e27545-026d-4a64-a5b9-3ef3053fc9d0",
   "metadata": {},
   "outputs": [
    {
     "data": {
      "text/plain": [
       "fairings                     205\n",
       "launch_library_id            133\n",
       "fairings.recovered           120\n",
       "links.reddit.media           117\n",
       "links.presskit               114\n",
       "fairings.reused              112\n",
       "links.reddit.recovery        110\n",
       "fairings.recovery_attempt     98\n",
       "window                        88\n",
       "static_fire_date_unix         84\n",
       "static_fire_date_utc          84\n",
       "details                       71\n",
       "links.article                 63\n",
       "links.reddit.campaign         55\n",
       "links.wikipedia               50\n",
       "links.reddit.launch           41\n",
       "fairings.ships                36\n",
       "success                       19\n",
       "links.youtube_id              17\n",
       "links.webcast                 17\n",
       "links.patch.large             16\n",
       "links.patch.small             16\n",
       "payloads                       0\n",
       "net                            0\n",
       "links.flickr.original          0\n",
       "links.flickr.small             0\n",
       "rocket                         0\n",
       "failures                       0\n",
       "launchpad                      0\n",
       "crew                           0\n",
       "id                             0\n",
       "ships                          0\n",
       "tbd                            0\n",
       "capsules                       0\n",
       "cores                          0\n",
       "upcoming                       0\n",
       "date_precision                 0\n",
       "date_local                     0\n",
       "date_unix                      0\n",
       "date_utc                       0\n",
       "name                           0\n",
       "flight_number                  0\n",
       "auto_update                    0\n",
       "dtype: int64"
      ]
     },
     "execution_count": 17,
     "metadata": {},
     "output_type": "execute_result"
    }
   ],
   "source": [
    "df.isnull().sum().sort_values(ascending=False)\n"
   ]
  },
  {
   "cell_type": "code",
   "execution_count": 18,
   "id": "233097c5-499c-4bd1-866b-f49c1a4a6336",
   "metadata": {},
   "outputs": [
    {
     "data": {
      "text/plain": [
       "object     34\n",
       "bool        4\n",
       "float64     3\n",
       "int64       2\n",
       "Name: count, dtype: int64"
      ]
     },
     "execution_count": 18,
     "metadata": {},
     "output_type": "execute_result"
    }
   ],
   "source": [
    "df.dtypes.value_counts()\n"
   ]
  },
  {
   "cell_type": "code",
   "execution_count": 19,
   "id": "7980eb96-0bff-4aa4-b14a-8a85c01147f2",
   "metadata": {},
   "outputs": [
    {
     "data": {
      "text/plain": [
       "Text(0.5, 1.0, 'Launches Per Year')"
      ]
     },
     "execution_count": 19,
     "metadata": {},
     "output_type": "execute_result"
    },
    {
     "data": {
      "image/png": "[encoded data removed]",
      "text/plain": [
       "<Figure size 640x480 with 1 Axes>"
      ]
     },
     "metadata": {},
     "output_type": "display_data"
    }
   ],
   "source": [
    "#Launch Metadata Exploration\n",
    "df['date_utc'] = pd.to_datetime(df['date_utc'])\n",
    "df['year'] = df['date_utc'].dt.year\n",
    "sns.countplot(x='year', data=df)\n",
    "plt.title(\"Launches Per Year\")\n"
   ]
  },
  {
   "cell_type": "code",
   "execution_count": 22,
   "id": "2c417107-6d5a-4ff6-80df-50050b7954cc",
   "metadata": {},
   "outputs": [
    {
     "name": "stdout",
     "output_type": "stream",
     "text": [
      "[False True None]\n",
      "success\n",
      "True     181\n",
      "None      19\n",
      "False      5\n",
      "Name: count, dtype: int64\n"
     ]
    }
   ],
   "source": [
    "print(df['success'].unique())\n",
    "print(df['success'].value_counts(dropna=False))\n"
   ]
  },
  {
   "cell_type": "code",
   "execution_count": 23,
   "id": "4cf3c64e-f05b-4739-b455-088cd4ca2e68",
   "metadata": {},
   "outputs": [],
   "source": [
    "df_success_clean = df[df['success'].notna()]\n"
   ]
  },
  {
   "cell_type": "code",
   "execution_count": 26,
   "id": "7d3abc1f-1c91-4089-a7f7-5dbfdfdc3d3c",
   "metadata": {},
   "outputs": [
    {
     "data": {
      "image/png": "[encoded data removed]",
      "text/plain": [
       "<Figure size 640x480 with 1 Axes>"
      ]
     },
     "metadata": {},
     "output_type": "display_data"
    }
   ],
   "source": [
    "sns.countplot(x='success', data=df_success_clean)\n",
    "plt.title(\"Mission Success Distribution\")\n",
    "plt.xlabel(\"Success Status\")\n",
    "plt.ylabel(\"Count\")\n",
    "plt.show()\n"
   ]
  },
  {
   "cell_type": "code",
   "execution_count": 28,
   "id": "884cf36a-f215-4a64-9631-0d05e1311f04",
   "metadata": {},
   "outputs": [
    {
     "name": "stdout",
     "output_type": "stream",
     "text": [
      "Unique rockets: 3\n",
      "Unique capsules: 35\n"
     ]
    },
    {
     "data": {
      "image/png": "[encoded data removed]",
      "text/plain": [
       "<Figure size 640x480 with 1 Axes>"
      ]
     },
     "metadata": {},
     "output_type": "display_data"
    }
   ],
   "source": [
    "# Unique count of rockets and capsules\n",
    "print(\"Unique rockets:\", df['rocket'].nunique())\n",
    "print(\"Unique capsules:\", df['capsules'].apply(lambda x: len(x) if isinstance(x, list) else 0).sum())\n",
    "\n",
    "# Payload count per launch\n",
    "df['num_payloads'] = df['payloads'].apply(lambda x: len(x) if isinstance(x, list) else 0)\n",
    "\n",
    "sns.histplot(df['num_payloads'], bins=20, kde=False)\n",
    "plt.title(\"Payload Count per Launch\")\n",
    "plt.xlabel(\"Number of Payloads\")\n",
    "plt.ylabel(\"Frequency\")\n",
    "plt.show()\n",
    "\n"
   ]
  },
  {
   "cell_type": "code",
   "execution_count": 29,
   "id": "a29301d0-57af-4cd2-9749-1f6760f8b702",
   "metadata": {},
   "outputs": [
    {
     "data": {
      "image/png": "[encoded data removed]",
      "text/plain": [
       "<Figure size 640x480 with 1 Axes>"
      ]
     },
     "metadata": {},
     "output_type": "display_data"
    }
   ],
   "source": [
    "#Fairings Analysisabs\n",
    "\n",
    "# Fill missing values for analysis\n",
    "df['fairings.recovered'] = df['fairings.recovered'].fillna(\"Unknown\")\n",
    "\n",
    "sns.countplot(x='fairings.recovered', data=df)\n",
    "plt.title(\"Fairings Recovery Outcome\")\n",
    "plt.xlabel(\"Recovery Status\")\n",
    "plt.ylabel(\"Count\")\n",
    "plt.show()\n"
   ]
  },
  {
   "cell_type": "code",
   "execution_count": 30,
   "id": "3005514f-663d-451f-af38-9c1c81ea416b",
   "metadata": {},
   "outputs": [
    {
     "data": {
      "image/png": "[encoded data removed]",
      "text/plain": [
       "<Figure size 800x400 with 1 Axes>"
      ]
     },
     "metadata": {},
     "output_type": "display_data"
    }
   ],
   "source": [
    "#Launchpad & Location Insights\n",
    "\n",
    "launchpad_counts = df['launchpad'].value_counts()\n",
    "\n",
    "plt.figure(figsize=(8,4))\n",
    "launchpad_counts.plot(kind='bar', color='skyblue')\n",
    "plt.title(\"Launch Count by Pad\")\n",
    "plt.xlabel(\"Launchpad\")\n",
    "plt.ylabel(\"Count\")\n",
    "plt.xticks(rotation=45)\n",
    "plt.tight_layout()\n",
    "plt.show()\n"
   ]
  },
  {
   "cell_type": "code",
   "execution_count": 32,
   "id": "162d9dfa-ad65-4e6d-bd1d-b9fe98032706",
   "metadata": {},
   "outputs": [
    {
     "name": "stdout",
     "output_type": "stream",
     "text": [
      "Media Link Availability:\n",
      "links.youtube_id    188\n",
      "links.wikipedia     155\n",
      "dtype: int64\n"
     ]
    }
   ],
   "source": [
    "#Media & Publicity\n",
    "\n",
    "# Check presence of media links\n",
    "media_links_presence = df[['links.youtube_id', 'links.wikipedia']].notnull().sum()\n",
    "\n",
    "print(\"Media Link Availability:\")\n",
    "print(media_links_presence)\n"
   ]
  },
  {
   "cell_type": "code",
   "execution_count": 38,
   "id": "0d6f139b-916e-4f86-8121-8a3d29cf598f",
   "metadata": {},
   "outputs": [
    {
     "name": "stdout",
     "output_type": "stream",
     "text": [
      "True\n"
     ]
    }
   ],
   "source": [
    "print('success_clean' in df.columns)\n"
   ]
  },
  {
   "cell_type": "code",
   "execution_count": 39,
   "id": "d9c48f3e-9b00-4c7e-ba5f-421e4e26851c",
   "metadata": {},
   "outputs": [],
   "source": [
    "df['date_utc'] = pd.to_datetime(df['date_utc'])\n",
    "df['year'] = df['date_utc'].dt.year\n"
   ]
  },
  {
   "cell_type": "code",
   "execution_count": 40,
   "id": "6a142210-f10e-4f31-bea9-86123f025a72",
   "metadata": {},
   "outputs": [
    {
     "data": {
      "image/png": "[encoded data removed]",
      "text/plain": [
       "<Figure size 640x480 with 1 Axes>"
      ]
     },
     "metadata": {},
     "output_type": "display_data"
    }
   ],
   "source": [
    "sns.countplot(x='year', hue='success_clean', data=df)\n",
    "plt.title(\"Launch Success by Year\")\n",
    "plt.xlabel(\"Year\")\n",
    "plt.ylabel(\"Launch Count\")\n",
    "plt.xticks(rotation=45)\n",
    "plt.show()\n"
   ]
  },
  {
   "cell_type": "code",
   "execution_count": 41,
   "id": "969bc832-fc2a-4292-a5bd-9f16dd9ed991",
   "metadata": {},
   "outputs": [
    {
     "name": "stdout",
     "output_type": "stream",
     "text": [
      "Index(['static_fire_date_utc', 'static_fire_date_unix', 'net', 'window',\n",
      "       'rocket', 'success', 'failures', 'details', 'crew', 'ships', 'capsules',\n",
      "       'payloads', 'launchpad', 'flight_number', 'name', 'date_utc',\n",
      "       'date_unix', 'date_local', 'date_precision', 'upcoming', 'cores',\n",
      "       'auto_update', 'tbd', 'launch_library_id', 'id', 'fairings.reused',\n",
      "       'fairings.recovery_attempt', 'fairings.recovered', 'fairings.ships',\n",
      "       'links.patch.small', 'links.patch.large', 'links.reddit.campaign',\n",
      "       'links.reddit.launch', 'links.reddit.media', 'links.reddit.recovery',\n",
      "       'links.flickr.small', 'links.flickr.original', 'links.presskit',\n",
      "       'links.webcast', 'links.youtube_id', 'links.article', 'links.wikipedia',\n",
      "       'fairings', 'year', 'num_payloads', 'success_clean'],\n",
      "      dtype='object')\n",
      "   year success_clean\n",
      "0  2006         False\n",
      "1  2007         False\n",
      "2  2008         False\n",
      "3  2008          True\n",
      "4  2009          True\n"
     ]
    }
   ],
   "source": [
    "print(df.columns)\n",
    "print(df[['year', 'success_clean']].head())\n"
   ]
  },
  {
   "cell_type": "code",
   "execution_count": 43,
   "id": "64bb36f3-5cec-4064-aa43-e558da9a8811",
   "metadata": {},
   "outputs": [
    {
     "ename": "NameError",
     "evalue": "name 'features' is not defined",
     "output_type": "error",
     "traceback": [
      "\u001b[1;31m---------------------------------------------------------------------------\u001b[0m",
      "\u001b[1;31mNameError\u001b[0m                                 Traceback (most recent call last)",
      "Cell \u001b[1;32mIn[43], line 8\u001b[0m\n\u001b[0;32m      5\u001b[0m \u001b[38;5;28;01mfrom\u001b[39;00m \u001b[38;5;21;01msklearn\u001b[39;00m\u001b[38;5;21;01m.\u001b[39;00m\u001b[38;5;21;01mensemble\u001b[39;00m \u001b[38;5;28;01mimport\u001b[39;00m RandomForestClassifier\n\u001b[0;32m      7\u001b[0m scaler \u001b[38;5;241m=\u001b[39m StandardScaler()\n\u001b[1;32m----> 8\u001b[0m X_scaled \u001b[38;5;241m=\u001b[39m scaler\u001b[38;5;241m.\u001b[39mfit_transform(\u001b[43mfeatures\u001b[49m)\n\u001b[0;32m     10\u001b[0m X_train, X_test, y_train, y_test \u001b[38;5;241m=\u001b[39m train_test_split(X_scaled, y, test_size\u001b[38;5;241m=\u001b[39m\u001b[38;5;241m0.2\u001b[39m)\n\u001b[0;32m     11\u001b[0m model \u001b[38;5;241m=\u001b[39m RandomForestClassifier()\n",
      "\u001b[1;31mNameError\u001b[0m: name 'features' is not defined"
     ]
    }
   ],
   "source": [
    "#Predictive Modelingabs\n",
    "\n",
    "from sklearn.preprocessing import StandardScaler\n",
    "from sklearn.model_selection import train_test_split\n",
    "from sklearn.ensemble import RandomForestClassifier\n",
    "\n",
    "scaler = StandardScaler()\n",
    "X_scaled = scaler.fit_transform(features)\n",
    "\n",
    "X_train, X_test, y_train, y_test = train_test_split(X_scaled, y, test_size=0.2)\n",
    "model = RandomForestClassifier()\n",
    "model.fit(X_train, y_train)\n",
    "\n",
    "y_pred = model.predict(X_test)\n"
   ]
  },
  {
   "cell_type": "code",
   "execution_count": 45,
   "id": "fe960ba2-3eba-44ad-9e0a-1640f1f1ac42",
   "metadata": {},
   "outputs": [],
   "source": [
    "features = pd.concat([\n",
    "    df[['flight_number']],  # you can add more numeric features here\n",
    "    pd.get_dummies(df[['launchpad', 'rocket']], drop_first=True)\n",
    "], axis=1)\n"
   ]
  },
  {
   "cell_type": "code",
   "execution_count": 46,
   "id": "315f9368-27b7-4fad-bdfb-1f358fae3c75",
   "metadata": {},
   "outputs": [],
   "source": [
    "y = df['success'].apply(lambda x: 1 if x is True else 0)\n"
   ]
  },
  {
   "cell_type": "code",
   "execution_count": 47,
   "id": "9ac7b795-353f-4ce9-88c2-894facd16591",
   "metadata": {},
   "outputs": [],
   "source": [
    "scaler = StandardScaler()\n",
    "X_scaled = scaler.fit_transform(features)\n",
    "\n",
    "X_train, X_test, y_train, y_test = train_test_split(X_scaled, y, test_size=0.2)\n",
    "\n",
    "model = RandomForestClassifier()\n",
    "model.fit(X_train, y_train)\n",
    "y_pred = model.predict(X_test)\n"
   ]
  },
  {
   "cell_type": "code",
   "execution_count": 48,
   "id": "8aaf02ad-a2b2-4d1e-8b5b-41486399659c",
   "metadata": {},
   "outputs": [
    {
     "data": {
      "text/plain": [
       "array([1, 1, 1, 1, 1, 1, 1, 1, 1, 1, 1, 1, 1, 1, 1, 1, 1, 1, 0, 1, 1, 1,\n",
       "       1, 1, 1, 1, 0, 1, 1, 1, 1, 1, 1, 1, 1, 1, 0, 1, 1, 0, 1],\n",
       "      dtype=int64)"
      ]
     },
     "execution_count": 48,
     "metadata": {},
     "output_type": "execute_result"
    }
   ],
   "source": [
    "y_pred"
   ]
  },
  {
   "cell_type": "code",
   "execution_count": 49,
   "id": "b8acdb45-194f-4e76-9439-4be139231bfd",
   "metadata": {},
   "outputs": [
    {
     "name": "stdout",
     "output_type": "stream",
     "text": [
      "Accuracy: 0.9512195121951219\n",
      "\n",
      "Classification Report:\n",
      "\n",
      "              precision    recall  f1-score   support\n",
      "\n",
      "     Failure       1.00      0.67      0.80         6\n",
      "     Success       0.95      1.00      0.97        35\n",
      "\n",
      "    accuracy                           0.95        41\n",
      "   macro avg       0.97      0.83      0.89        41\n",
      "weighted avg       0.95      0.95      0.95        41\n",
      "\n",
      "\n",
      "Confusion Matrix:\n",
      "\n",
      "[[ 4  2]\n",
      " [ 0 35]]\n"
     ]
    }
   ],
   "source": [
    "from sklearn.metrics import accuracy_score, classification_report, confusion_matrix\n",
    "# Accuracy\n",
    "print(\"Accuracy:\", accuracy_score(y_test, y_pred))\n",
    "\n",
    "# Detailed Report\n",
    "print(\"\\nClassification Report:\\n\")\n",
    "print(classification_report(y_test, y_pred, target_names=[\"Failure\", \"Success\"]))\n",
    "\n",
    "# Confusion Matrix\n",
    "print(\"\\nConfusion Matrix:\\n\")\n",
    "print(confusion_matrix(y_test, y_pred))\n"
   ]
  },
  {
   "cell_type": "code",
   "execution_count": 50,
   "id": "696c4255-2400-4112-ab55-a16f645a357a",
   "metadata": {},
   "outputs": [
    {
     "data": {
      "image/png": "[encoded data removed]",
      "text/plain": [
       "<Figure size 600x400 with 2 Axes>"
      ]
     },
     "metadata": {},
     "output_type": "display_data"
    }
   ],
   "source": [
    "from sklearn.metrics import confusion_matrix\n",
    "import seaborn as sns\n",
    "import matplotlib.pyplot as plt\n",
    "\n",
    "# Generate confusion matrix\n",
    "cm = confusion_matrix(y_test, y_pred)\n",
    "\n",
    "# Plot heatmap\n",
    "plt.figure(figsize=(6,4))\n",
    "sns.heatmap(cm, annot=True, fmt='d', cmap='Blues', xticklabels=['Failure', 'Success'], yticklabels=['Failure', 'Success'])\n",
    "plt.title('Confusion Matrix: Actual vs Predicted')\n",
    "plt.xlabel('Predicted')\n",
    "plt.ylabel('Actual')\n",
    "plt.show()\n"
   ]
  },
  {
   "cell_type": "code",
   "execution_count": 51,
   "id": "75183764-c2d7-401b-8140-849f11a22f68",
   "metadata": {},
   "outputs": [
    {
     "data": {
      "image/png": "[encoded data removed]",
      "text/plain": [
       "<Figure size 800x400 with 1 Axes>"
      ]
     },
     "metadata": {},
     "output_type": "display_data"
    }
   ],
   "source": [
    "#Predicted Class Probabilities \n",
    "# Predict probabilities\n",
    "probs = model.predict_proba(X_test)\n",
    "\n",
    "# Visualize probability of 'Success' class\n",
    "plt.figure(figsize=(8,4))\n",
    "sns.histplot(probs[:,1], bins=10, kde=True)\n",
    "plt.title(\"Predicted Probability Distribution for Success\")\n",
    "plt.xlabel(\"Probability of Success\")\n",
    "plt.ylabel(\"Frequency\")\n",
    "plt.show()\n"
   ]
  },
  {
   "cell_type": "markdown",
   "id": "49cb730e-9448-4389-8065-82f497e0b38a",
   "metadata": {},
   "source": [
    "# Conclusion\r\n",
    "\r\n",
    "This project demonstrated the end-to-end process of solving a real-world data science problem using launch data from SpaceX. Beginning with API-driven data acquisition, we moved through extensive preprocessing and exploratory analysis to identify patterns in launch outcomes, payload behavior, and operational metrics.\r\n",
    "\r\n",
    "## Key Insights\r\n",
    "\r\n",
    "- The majority of launches were successful, with clear trends of increasing reliability over the years.\r\n",
    "- Payload counts and fairing recovery outcomes showed operational complexity and reusable component strategies.\r\n",
    "- Launchpad usage and media presence varied widely across missions, offering potential correlations with mission scale.\r\n",
    "- Predictive modeling using Random Forests achieved an impressive 95% accuracy, correctly identifying successful launches while highlighting the challenge of classifying mission failures due to class imbalance.\r\n",
    "\r\n",
    "## Reflection\r\n",
    "\r\n",
    "This workflow not only reinforced technical skills in data wrangling, visualization, and modeling, but also built a foundation for deployment-ready solutions. The modular EDA blocks, clean dashboards, and performance metrics allow for rapid iteration and communication with business stakeholders.\r\n",
    "\r\n",
    "SpaceX’s data offered both engineering depth and narrative richness—precisely the kind of project that bridges raw analysis with compelling storytelling.\r\n"
   ]
  },
  {
   "cell_type": "code",
   "execution_count": null,
   "id": "c08f76b5-b17f-4ba8-bd6b-8eb1b13f8824",
   "metadata": {},
   "outputs": [],
   "source": []
  }
 ],
 "metadata": {
  "kernelspec": {
   "display_name": "Python 3 (ipykernel)",
   "language": "python",
   "name": "python3"
  },
  "language_info": {
   "codemirror_mode": {
    "name": "ipython",
    "version": 3
   },
   "file_extension": ".py",
   "mimetype": "text/x-python",
   "name": "python",
   "nbconvert_exporter": "python",
   "pygments_lexer": "ipython3",
   "version": "3.12.4"
  }
 },
 "nbformat": 4,
 "nbformat_minor": 5
}
